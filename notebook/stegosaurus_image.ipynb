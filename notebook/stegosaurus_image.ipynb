{
 "cells": [
  {
   "cell_type": "markdown",
   "metadata": {},
   "source": [
    "# Steganography in PNGs\n",
    "-------------------------------------------------------------------------------------------------\n",
    "\n",
    "\n",
    "##### *Steganography : practice of hiding a message in another object, in this case a text message in an image*\n",
    "-------------------------------------------------------------------------------------------------\n",
    "- This program checks to see if the dependencies are installed\n",
    "- Runs both a coder and decoder program based on user input\n",
    "- Imports and exports files as a PNG\n",
    "- Currently this does not support JPEG, due to JPEGs lossieness\n",
    "\n",
    "### Future work\n",
    "    - debugging the if/else, there is a small snag that skips the conditional if false\n",
    "    - checking if bmp or gif files work\n",
    "    - creating a conditional that checks if files are acceptable format, ie PNG or BMP\n",
    "    - adding support for Linux and MAC Os"
   ]
  },
  {
   "cell_type": "code",
   "execution_count": null,
   "metadata": {},
   "outputs": [],
   "source": [
    "from sys import platform as _platform\n",
    "import re\n",
    "import platform\n",
    "import sys\n",
    "import os\n",
    "import subprocess\n",
    "import pkg_resources\n",
    "op_sys = os.name\n",
    "system = platform.system()\n",
    "release = platform.release()\n",
    "print(system)\n",
    "print(release)\n",
    "print(op_sys)"
   ]
  },
  {
   "cell_type": "code",
   "execution_count": null,
   "metadata": {},
   "outputs": [],
   "source": [
    "required = {'opencv-python', 'opencv-contrib-python'}\n",
    "installed = {pkg.key for pkg in pkg_resources.working_set}\n",
    "# if 'opencv-python' in list(installed) & 'opencv-contrib-python' in list(installed):\n",
    "#     print('OpenCV is installed')\n",
    "missing = required - installed\n",
    "print(missing)"
   ]
  },
  {
   "cell_type": "code",
   "execution_count": null,
   "metadata": {},
   "outputs": [],
   "source": [
    "print('Do you have OpenCV installed? Y or N')\n",
    "install = input()\n",
    "if install.lower() == 'no' or install.lower() == 'n':\n",
    "    if system == 'linux':\n",
    "        print(f'{system}, {release}')\n",
    "        print('Chose Pip or -m to Install')\n",
    "        x =  input()\n",
    "        if x.lower() == '-m':\n",
    "            !{sys.executable} -m install opencv-python\n",
    "            !{sys.executable} -m install opencv-contrib-python\n",
    "        if x.lower() == 'pip':\n",
    "            !{sys.executable} -m pip install opencv\n",
    "            !{sys.executable} -m pip opencv-contrib-python\n",
    "\n",
    "    elif 'win' in _platform:\n",
    "        print(f'{system}, {release}')\n",
    "        !conda install --channel https://conda.anaconda.org/menpo  opencv\n",
    "        !pip install opencv-contrib-python\n",
    "        print('Successfully installed OpenCV')\n",
    "        #Use this code if there is an error\n",
    "        #!anaconda show menpo/opencv\n",
    "\n",
    "    elif 'linux' in _platform:\n",
    "        print(f'{system}, {release}')\n",
    "        print('Chose Pip or -m to Install')\n",
    "        x =  input()\n",
    "        if x.lower() == '-m':\n",
    "            !{sys.executable} -m install opencv-python\n",
    "            !{sys.executable} -m install opencv-contrib-python\n",
    "            print('Successfully installed OpenCV')\n",
    "        if x.lower() == 'pip':\n",
    "            !{sys.executable} -m pip install opencv\n",
    "            !{sys.executable} -m pip opencv-contrib-python\n",
    "            print('Successfully installed OpenCV')\n",
    "    else:\n",
    "        print(f'Operating System {system} not supported')\n",
    "else:\n",
    "    import cv2 as cv\n",
    "    print('\\n Continuing program....')\n",
    "    "
   ]
  },
  {
   "cell_type": "code",
   "execution_count": null,
   "metadata": {},
   "outputs": [],
   "source": [
    "#changing message chars to ordinals\n",
    "def stego_generator(message):\n",
    "    for char in message:\n",
    "        #print(f'This is the char: {char}')\n",
    "        #print(f'This is the ordinal of the char {ord(char)}')\n",
    "        yield ord(char)"
   ]
  },
  {
   "cell_type": "code",
   "execution_count": null,
   "metadata": {},
   "outputs": [],
   "source": [
    "def get_img(img_loc):\n",
    "    img = cv.imread(img_loc)\n",
    "    if img is None:\n",
    "        sys.exit(\"Could not read the image.\")\n",
    "    #print(img)\n",
    "    return img"
   ]
  },
  {
   "cell_type": "code",
   "execution_count": null,
   "metadata": {},
   "outputs": [],
   "source": [
    "def gcd(x,y):\n",
    "    while(y):\n",
    "        x, y = y, x % y\n",
    "    return x"
   ]
  },
  {
   "cell_type": "code",
   "execution_count": null,
   "metadata": {},
   "outputs": [],
   "source": [
    "def encode_stego(img_loc, msg):\n",
    "    img = get_img(img_loc)\n",
    "    msg_gen = stego_generator(msg)\n",
    "    #print(f'This is the message{msg_gen}')\n",
    "    pattern = gcd(len(img), len(img[0]))\n",
    "    for i in range(len(img)):\n",
    "        for j in range(len(img[0])):\n",
    "            if (i+1 * j+1) % pattern == 0:\n",
    "                #print((i+1 * j+1) % pattern)\n",
    "                try:\n",
    "                    img[i-1][j-1][0] = next(msg_gen)\n",
    "                    #print(f'This is the try line {chr(img[i-1][j-1][0])}')\n",
    "                except StopIteration:\n",
    "                    img[i-1][j-1][0] = 0\n",
    "                    #print(f'This is the image? {img}')\n",
    "                    return img"
   ]
  },
  {
   "cell_type": "code",
   "execution_count": null,
   "metadata": {},
   "outputs": [],
   "source": [
    "def decode_stego(img_loc):\n",
    "    img = get_img(img_loc)\n",
    "    pattern = gcd(len(img), len(img[0]))\n",
    "    message = ''\n",
    "    print('----------------------------------------------------------------------------')\n",
    "    print(f'This is the message: {message}')\n",
    "    print('----------------------------------------------------------------------------')\n",
    "    for i in range(len(img)):\n",
    "        for j in range(len(img[0])):\n",
    "            if (i-1 * j-1) % pattern == 0:\n",
    "                if img[i-1][j-1][0] != 0:\n",
    "                    #print(f'Numpy array {chr(img[i-1][j-1][0])}')\n",
    "                    message = message + chr(img[i-1][j-1][0])\n",
    "                    #print(message)\n",
    "                else:\n",
    "                    return message"
   ]
  },
  {
   "cell_type": "code",
   "execution_count": null,
   "metadata": {},
   "outputs": [],
   "source": [
    "def format_loc(file_loc):\n",
    "    try:\n",
    "        assert os.path.exists(file_loc), 'File not found: ' +str(file_loc)\n",
    "        f = open(file_loc, 'r+')\n",
    "        print('File Found, Proceeding...')\n",
    "        f.close()\n",
    "        return file_loc\n",
    "    except AssertionError or PermissionError:\n",
    "        print('File not found...')\n",
    "   "
   ]
  },
  {
   "cell_type": "code",
   "execution_count": null,
   "metadata": {
    "scrolled": true
   },
   "outputs": [],
   "source": [
    "def stegosarus():\n",
    "    print('For PC')\n",
    "    choice = input('Code or Decode\\n')\n",
    "    print('Enter the path of your PNG file:\\n Example::\"C:\\\\Users\\\\username\\\\folder\\\\filename.png\"')\n",
    "    file_loc = input('-->')\n",
    "    if format_loc(file_loc):\n",
    "        if choice.lower() == 'code':\n",
    "            to_code = input('What is your message?\\n')\n",
    "            encoded_img = encode_stego(file_loc, to_code)\n",
    "            #cv.imshow(\"Display window\", encoded_img)\n",
    "            #k = cv.waitKey(5)\n",
    "            file_name = input('What would you like to call the Image File?\\n')\n",
    "            cv.imwrite(file_name, encoded_img)\n",
    "        elif choice.lower() == 'decode':\n",
    "            print(decode_stego(file_loc))\n",
    "        else:\n",
    "            print('Command not available')"
   ]
  },
  {
   "cell_type": "code",
   "execution_count": null,
   "metadata": {
    "scrolled": true
   },
   "outputs": [],
   "source": [
    "stegosarus()"
   ]
  },
  {
   "cell_type": "code",
   "execution_count": null,
   "metadata": {},
   "outputs": [],
   "source": [
    "stegosarus()"
   ]
  },
  {
   "cell_type": "code",
   "execution_count": null,
   "metadata": {},
   "outputs": [],
   "source": []
  }
 ],
 "metadata": {
  "kernelspec": {
   "display_name": "Python 3",
   "language": "python",
   "name": "python3"
  },
  "language_info": {
   "codemirror_mode": {
    "name": "ipython",
    "version": 3
   },
   "file_extension": ".py",
   "mimetype": "text/x-python",
   "name": "python",
   "nbconvert_exporter": "python",
   "pygments_lexer": "ipython3",
   "version": "3.8.5"
  }
 },
 "nbformat": 4,
 "nbformat_minor": 4
}
